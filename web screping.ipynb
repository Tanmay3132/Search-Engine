{
 "cells": [
  {
   "cell_type": "code",
   "execution_count": 2,
   "id": "0d490de7",
   "metadata": {},
   "outputs": [
    {
     "ename": "NameError",
     "evalue": "name 'Keys' is not defined",
     "output_type": "error",
     "traceback": [
      "\u001b[1;31m---------------------------------------------------------------------------\u001b[0m",
      "\u001b[1;31mNameError\u001b[0m                                 Traceback (most recent call last)",
      "Cell \u001b[1;32mIn [2], line 13\u001b[0m\n\u001b[0;32m     11\u001b[0m SearchInput\u001b[38;5;241m.\u001b[39mclear()\n\u001b[0;32m     12\u001b[0m SearchInput\u001b[38;5;241m.\u001b[39msend_keys(\u001b[38;5;124m\"\u001b[39m\u001b[38;5;124mData Science\u001b[39m\u001b[38;5;124m\"\u001b[39m)\n\u001b[1;32m---> 13\u001b[0m SearchInput\u001b[38;5;241m.\u001b[39msend_keys(\u001b[43mKeys\u001b[49m\u001b[38;5;241m.\u001b[39mRETURN)\n",
      "\u001b[1;31mNameError\u001b[0m: name 'Keys' is not defined"
     ]
    }
   ],
   "source": [
    "from selenium import webdriver\n",
    "from selenium.webdriver.common.by import By\n",
    "driver = webdriver.Chrome()\n",
    "\n",
    "    # Navigate to url\n",
    "driver.get(\"http://www.google.com\")\n",
    "    # Store 'SearchInput' element\n",
    "SearchInput = driver.find_element(By.NAME, \"q\")\n",
    "SearchInput.send_keys(\"selenium\")\n",
    "    # Clears the entered text\n",
    "SearchInput.clear()\n",
    "SearchInput.send_keys(\"Data Science\")\n",
    "SearchInput.send_keys(Keys.RETURN)\n",
    "\n"
   ]
  }
 ],
 "metadata": {
  "kernelspec": {
   "display_name": "Python 3.10.4 64-bit",
   "language": "python",
   "name": "python3"
  },
  "language_info": {
   "codemirror_mode": {
    "name": "ipython",
    "version": 3
   },
   "file_extension": ".py",
   "mimetype": "text/x-python",
   "name": "python",
   "nbconvert_exporter": "python",
   "pygments_lexer": "ipython3",
   "version": "3.10.4"
  },
  "vscode": {
   "interpreter": {
    "hash": "fbc768028c3e6ead51d9a200ddcb2ec858ae62844dcd1994729a8279be9b48f2"
   }
  }
 },
 "nbformat": 4,
 "nbformat_minor": 5
}
