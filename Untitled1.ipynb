{
 "cells": [
  {
   "cell_type": "code",
   "execution_count": 1,
   "id": "921600da",
   "metadata": {},
   "outputs": [
    {
     "name": "stdout",
     "output_type": "stream",
     "text": [
      "Requirement already satisfied: flask in c:\\users\\dell\\appdata\\local\\programs\\python\\python310\\lib\\site-packages (2.2.2)\n",
      "Requirement already satisfied: click>=8.0 in c:\\users\\dell\\appdata\\local\\programs\\python\\python310\\lib\\site-packages (from flask) (8.1.3)\n",
      "Requirement already satisfied: itsdangerous>=2.0 in c:\\users\\dell\\appdata\\local\\programs\\python\\python310\\lib\\site-packages (from flask) (2.1.2)\n",
      "Requirement already satisfied: Werkzeug>=2.2.2 in c:\\users\\dell\\appdata\\local\\programs\\python\\python310\\lib\\site-packages (from flask) (2.2.2)\n",
      "Requirement already satisfied: Jinja2>=3.0 in c:\\users\\dell\\appdata\\local\\programs\\python\\python310\\lib\\site-packages (from flask) (3.1.2)\n",
      "Requirement already satisfied: colorama in c:\\users\\dell\\appdata\\local\\programs\\python\\python310\\lib\\site-packages (from click>=8.0->flask) (0.4.6)\n",
      "Requirement already satisfied: MarkupSafe>=2.0 in c:\\users\\dell\\appdata\\local\\programs\\python\\python310\\lib\\site-packages (from Jinja2>=3.0->flask) (2.1.1)\n",
      "Note: you may need to restart the kernel to use updated packages.\n"
     ]
    }
   ],
   "source": [
    "%pip install flask\n"
   ]
  },
  {
   "cell_type": "code",
   "execution_count": 2,
   "id": "6513710d",
   "metadata": {},
   "outputs": [
    {
     "name": "stdout",
     "output_type": "stream",
     "text": [
      "Requirement already satisfied: flask_cors in c:\\users\\dell\\appdata\\local\\programs\\python\\python310\\lib\\site-packages (3.0.10)Note: you may need to restart the kernel to use updated packages.\n",
      "\n",
      "Requirement already satisfied: Six in c:\\users\\dell\\appdata\\local\\programs\\python\\python310\\lib\\site-packages (from flask_cors) (1.16.0)\n",
      "Requirement already satisfied: Flask>=0.9 in c:\\users\\dell\\appdata\\local\\programs\\python\\python310\\lib\\site-packages (from flask_cors) (2.2.2)\n",
      "Requirement already satisfied: Werkzeug>=2.2.2 in c:\\users\\dell\\appdata\\local\\programs\\python\\python310\\lib\\site-packages (from Flask>=0.9->flask_cors) (2.2.2)\n",
      "Requirement already satisfied: Jinja2>=3.0 in c:\\users\\dell\\appdata\\local\\programs\\python\\python310\\lib\\site-packages (from Flask>=0.9->flask_cors) (3.1.2)\n",
      "Requirement already satisfied: itsdangerous>=2.0 in c:\\users\\dell\\appdata\\local\\programs\\python\\python310\\lib\\site-packages (from Flask>=0.9->flask_cors) (2.1.2)\n",
      "Requirement already satisfied: click>=8.0 in c:\\users\\dell\\appdata\\local\\programs\\python\\python310\\lib\\site-packages (from Flask>=0.9->flask_cors) (8.1.3)\n",
      "Requirement already satisfied: colorama in c:\\users\\dell\\appdata\\local\\programs\\python\\python310\\lib\\site-packages (from click>=8.0->Flask>=0.9->flask_cors) (0.4.6)\n",
      "Requirement already satisfied: MarkupSafe>=2.0 in c:\\users\\dell\\appdata\\local\\programs\\python\\python310\\lib\\site-packages (from Jinja2>=3.0->Flask>=0.9->flask_cors) (2.1.1)\n"
     ]
    }
   ],
   "source": [
    "%pip install flask_cors"
   ]
  },
  {
   "cell_type": "code",
   "execution_count": 3,
   "id": "b5830b31",
   "metadata": {},
   "outputs": [
    {
     "name": "stdout",
     "output_type": "stream",
     "text": [
      " * Serving Flask app '__main__'\n",
      " * Debug mode: on\n"
     ]
    },
    {
     "name": "stderr",
     "output_type": "stream",
     "text": [
      "WARNING: This is a development server. Do not use it in a production deployment. Use a production WSGI server instead.\n",
      " * Running on http://127.0.0.1:5000\n",
      "Press CTRL+C to quit\n",
      " * Restarting with stat\n"
     ]
    },
    {
     "ename": "SystemExit",
     "evalue": "1",
     "output_type": "error",
     "traceback": [
      "An exception has occurred, use %tb to see the full traceback.\n",
      "\u001b[1;31mSystemExit\u001b[0m\u001b[1;31m:\u001b[0m 1\n"
     ]
    },
    {
     "name": "stderr",
     "output_type": "stream",
     "text": [
      "c:\\Users\\DELL\\AppData\\Local\\Programs\\Python\\Python310\\lib\\site-packages\\IPython\\core\\interactiveshell.py:3441: UserWarning: To exit: use 'exit', 'quit', or Ctrl-D.\n",
      "  warn(\"To exit: use 'exit', 'quit', or Ctrl-D.\", stacklevel=1)\n"
     ]
    }
   ],
   "source": [
    "from flask import Flask, request\n",
    "import github_module\n",
    "# import youtube_module\n",
    "# import sentiment_analysis\n",
    "# import final_file_parallel\n",
    "# import web_scraper\n",
    "from flask_cors import CORS, cross_origin\n",
    "\n",
    "app = Flask(__name__) \n",
    "\n",
    "@app.route('/github')\n",
    "@cross_origin(supports_credentials=True)\n",
    "def fetch():\n",
    "    query = request.args.get('query')\n",
    "    temp = github_module.extract_repos(query)\n",
    "    return {'URLS':github_module.sortfun(temp)}\n",
    "\n",
    "\n",
    "# @app.route('/youtube')\n",
    "# @cross_origin(supports_credentials=True)\n",
    "# def fetchVideoLinks():\n",
    "#     query = request.args.get('query')\n",
    "#     temp = youtube_module.extractYoutubeVideos(query)\n",
    "#     return {'Videos': temp}\n",
    "\n",
    "\n",
    "# @app.route('/twitter')\n",
    "# @cross_origin(supports_credentials=True)\n",
    "# def fetchTweets():\n",
    "#     query = request.args.get('query')\n",
    "#     temp = sentiment_analysis.get_tweets_main(query)\n",
    "#     return {'Tweets': temp}\n",
    "\n",
    "\n",
    "# @app.route('/webscrape')\n",
    "# @cross_origin(supports_credentials=True)\n",
    "# def fetchLinks():\n",
    "#     query = request.args.get('query')\n",
    "#     temp = web_scraper.links_for_search(query)\n",
    "#     return {'Links': temp}\n",
    "\n",
    "\n",
    "# @app.route('/parallel')\n",
    "# @cross_origin(supports_credentials=True)\n",
    "# def fetchAll():\n",
    "#     query = request.args.get('query')\n",
    "#     temp = final_file_parallel.parallel_implementation(query)\n",
    "#     return temp\n",
    "\n",
    "if __name__ == '__main__':\n",
    "   app.run(debug=True, port=5000)\n"
   ]
  }
 ],
 "metadata": {
  "kernelspec": {
   "display_name": "Python 3.10.4 64-bit",
   "language": "python",
   "name": "python3"
  },
  "language_info": {
   "codemirror_mode": {
    "name": "ipython",
    "version": 3
   },
   "file_extension": ".py",
   "mimetype": "text/x-python",
   "name": "python",
   "nbconvert_exporter": "python",
   "pygments_lexer": "ipython3",
   "version": "3.10.4"
  },
  "vscode": {
   "interpreter": {
    "hash": "fbc768028c3e6ead51d9a200ddcb2ec858ae62844dcd1994729a8279be9b48f2"
   }
  }
 },
 "nbformat": 4,
 "nbformat_minor": 5
}
