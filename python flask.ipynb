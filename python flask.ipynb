{
 "cells": [
  {
   "cell_type": "code",
   "execution_count": null,
   "id": "921600da",
   "metadata": {},
   "outputs": [],
   "source": [
    "%pip install flask\n"
   ]
  },
  {
   "cell_type": "code",
   "execution_count": 2,
   "id": "6513710d",
   "metadata": {},
   "outputs": [
    {
     "name": "stdout",
     "output_type": "stream",
     "text": [
      "Requirement already satisfied: flask_cors in c:\\users\\dell\\appdata\\local\\programs\\python\\python310\\lib\\site-packages (3.0.10)\n",
      "Requirement already satisfied: Six in c:\\users\\dell\\appdata\\local\\programs\\python\\python310\\lib\\site-packages (from flask_cors) (1.16.0)\n",
      "Requirement already satisfied: Flask>=0.9 in c:\\users\\dell\\appdata\\local\\programs\\python\\python310\\lib\\site-packages (from flask_cors) (2.2.2)\n",
      "Requirement already satisfied: click>=8.0 in c:\\users\\dell\\appdata\\local\\programs\\python\\python310\\lib\\site-packages (from Flask>=0.9->flask_cors) (8.1.3)\n",
      "Requirement already satisfied: Werkzeug>=2.2.2 in c:\\users\\dell\\appdata\\local\\programs\\python\\python310\\lib\\site-packages (from Flask>=0.9->flask_cors) (2.2.2)\n",
      "Requirement already satisfied: Jinja2>=3.0 in c:\\users\\dell\\appdata\\local\\programs\\python\\python310\\lib\\site-packages (from Flask>=0.9->flask_cors) (3.1.2)\n",
      "Requirement already satisfied: itsdangerous>=2.0 in c:\\users\\dell\\appdata\\local\\programs\\python\\python310\\lib\\site-packages (from Flask>=0.9->flask_cors) (2.1.2)\n",
      "Requirement already satisfied: colorama in c:\\users\\dell\\appdata\\local\\programs\\python\\python310\\lib\\site-packages (from click>=8.0->Flask>=0.9->flask_cors) (0.4.6)\n",
      "Requirement already satisfied: MarkupSafe>=2.0 in c:\\users\\dell\\appdata\\local\\programs\\python\\python310\\lib\\site-packages (from Jinja2>=3.0->Flask>=0.9->flask_cors) (2.1.1)\n",
      "Note: you may need to restart the kernel to use updated packages.\n"
     ]
    }
   ],
   "source": [
    "%pip install flask_cors"
   ]
  },
  {
   "cell_type": "code",
   "execution_count": null,
   "id": "b5830b31",
   "metadata": {},
   "outputs": [
    {
     "name": "stdout",
     "output_type": "stream",
     "text": [
      " * Serving Flask app '__main__'\n",
      " * Debug mode: off\n"
     ]
    },
    {
     "name": "stderr",
     "output_type": "stream",
     "text": [
      "WARNING: This is a development server. Do not use it in a production deployment. Use a production WSGI server instead.\n",
      " * Running on http://127.0.0.1:5000\n",
      "Press CTRL+C to quit\n",
      "127.0.0.1 - - [03/Jan/2023 15:43:40] \"GET /github?query=machine%20learning HTTP/1.1\" 200 -\n",
      "127.0.0.1 - - [03/Jan/2023 15:44:20] \"GET /youtube?query=Machine%20Learning HTTP/1.1\" 200 -\n",
      "127.0.0.1 - - [03/Jan/2023 15:44:22] \"GET /youtube?query=Machine%20Learning HTTP/1.1\" 200 -\n",
      "[2023-01-03 15:44:49,674] ERROR in app: Exception on /webscrape [GET]\n",
      "Traceback (most recent call last):\n",
      "  File \"C:\\Users\\DELL\\AppData\\Local\\Programs\\Python\\Python310\\lib\\site-packages\\flask\\app.py\", line 2525, in wsgi_app\n",
      "    response = self.full_dispatch_request()\n",
      "  File \"C:\\Users\\DELL\\AppData\\Local\\Programs\\Python\\Python310\\lib\\site-packages\\flask\\app.py\", line 1822, in full_dispatch_request\n",
      "    rv = self.handle_user_exception(e)\n",
      "  File \"C:\\Users\\DELL\\AppData\\Local\\Programs\\Python\\Python310\\lib\\site-packages\\flask\\app.py\", line 1820, in full_dispatch_request\n",
      "    rv = self.dispatch_request()\n",
      "  File \"C:\\Users\\DELL\\AppData\\Local\\Programs\\Python\\Python310\\lib\\site-packages\\flask\\app.py\", line 1796, in dispatch_request\n",
      "    return self.ensure_sync(self.view_functions[rule.endpoint])(**view_args)\n",
      "  File \"C:\\Users\\DELL\\AppData\\Local\\Programs\\Python\\Python310\\lib\\site-packages\\flask_cors\\decorator.py\", line 128, in wrapped_function\n",
      "    resp = make_response(f(*args, **kwargs))\n",
      "  File \"C:\\Users\\DELL\\AppData\\Local\\Temp\\ipykernel_17368\\1367135034.py\", line 31, in fetchLinks\n",
      "    temp = web_scraper.links_for_search(query)\n",
      "  File \"F:\\Tanmay Programming\\notebook py\\web_scraper.py\", line 54, in links_for_search\n",
      "    category_link.append(driver.find_element(By.LINK_TEXT, i).get_attribute('href'))\n",
      "  File \"C:\\Users\\DELL\\AppData\\Local\\Programs\\Python\\Python310\\lib\\site-packages\\selenium\\webdriver\\remote\\webdriver.py\", line 861, in find_element\n",
      "    return self.execute(Command.FIND_ELEMENT, {\"using\": by, \"value\": value})[\"value\"]\n",
      "  File \"C:\\Users\\DELL\\AppData\\Local\\Programs\\Python\\Python310\\lib\\site-packages\\selenium\\webdriver\\remote\\webdriver.py\", line 444, in execute\n",
      "    self.error_handler.check_response(response)\n",
      "  File \"C:\\Users\\DELL\\AppData\\Local\\Programs\\Python\\Python310\\lib\\site-packages\\selenium\\webdriver\\remote\\errorhandler.py\", line 249, in check_response\n",
      "    raise exception_class(message, screen, stacktrace)\n",
      "selenium.common.exceptions.NoSuchElementException: Message: no such element: Unable to locate element: {\"method\":\"link text\",\"selector\":\"News\"}\n",
      "  (Session info: headless chrome=108.0.5359.125)\n",
      "Stacktrace:\n",
      "Backtrace:\n",
      "\tOrdinal0 [0x006DACD3+2075859]\n",
      "\tOrdinal0 [0x0066EE61+1633889]\n",
      "\tOrdinal0 [0x0056B7BD+571325]\n",
      "\tOrdinal0 [0x0059AC2F+764975]\n",
      "\tOrdinal0 [0x0059AE1B+765467]\n",
      "\tOrdinal0 [0x005CD0F2+970994]\n",
      "\tOrdinal0 [0x005B7364+881508]\n",
      "\tOrdinal0 [0x005CB56A+963946]\n",
      "\tOrdinal0 [0x005B7136+880950]\n",
      "\tOrdinal0 [0x0058FEFD+720637]\n",
      "\tOrdinal0 [0x00590F3F+724799]\n",
      "\tGetHandleVerifier [0x0098EED2+2769538]\n",
      "\tGetHandleVerifier [0x00980D95+2711877]\n",
      "\tGetHandleVerifier [0x0076A03A+521194]\n",
      "\tGetHandleVerifier [0x00768DA0+516432]\n",
      "\tOrdinal0 [0x0067682C+1665068]\n",
      "\tOrdinal0 [0x0067B128+1683752]\n",
      "\tOrdinal0 [0x0067B215+1683989]\n",
      "\tOrdinal0 [0x00686484+1729668]\n",
      "\tBaseThreadInitThunk [0x76356BD9+25]\n",
      "\tRtlGetFullPathName_UEx [0x774B8FD2+1218]\n",
      "\tRtlGetFullPathName_UEx [0x774B8F9D+1165]\n",
      "\n",
      "127.0.0.1 - - [03/Jan/2023 15:44:49] \"GET /webscrape?query=machine%20learning HTTP/1.1\" 500 -\n",
      "127.0.0.1 - - [03/Jan/2023 15:44:56] \"GET /webscrape?query=machine%20learning HTTP/1.1\" 200 -\n",
      "127.0.0.1 - - [03/Jan/2023 15:45:51] \"GET /parallel?query=Machine%20Learning HTTP/1.1\" 200 -\n"
     ]
    }
   ],
   "source": [
    "from flask import Flask, request\n",
    "import github_module\n",
    "import youtube_module\n",
    "# import sentiment_analysis\n",
    "import final_file_parallel\n",
    "import web_scraper\n",
    "from flask_cors import CORS, cross_origin\n",
    "\n",
    "app = Flask(__name__) \n",
    "\n",
    "@app.route('/github')\n",
    "@cross_origin(supports_credentials=True)\n",
    "def fetch():\n",
    "    query = request.args.get('query')\n",
    "    temp = github_module.extract_repos(query)\n",
    "    return {'URLS':github_module.sortfun(temp)}\n",
    "\n",
    "\n",
    "@app.route('/youtube')\n",
    "@cross_origin(supports_credentials=True)\n",
    "def fetchVideoLinks():\n",
    "    query = request.args.get('query')\n",
    "    temp = youtube_module.extractYoutubeVideos(query)\n",
    "    return {'Videos': temp}\n",
    "\n",
    "\n",
    "@app.route('/webscrape')\n",
    "@cross_origin(supports_credentials=True)\n",
    "def fetchLinks():\n",
    "    query = request.args.get('query')\n",
    "    temp = web_scraper.links_for_search(query)\n",
    "    return {'Links': temp}\n",
    "\n",
    "\n",
    "@app.route('/parallel')\n",
    "@cross_origin(supports_credentials=True)\n",
    "def fetchAll():\n",
    "    query = request.args.get('query')\n",
    "    temp = final_file_parallel.parallel_implementation(query)\n",
    "    return temp\n",
    "\n",
    "if __name__ == '__main__':\n",
    "   app.run(debug=False, port=5000)\n"
   ]
  }
 ],
 "metadata": {
  "kernelspec": {
   "display_name": "Python 3 (ipykernel)",
   "language": "python",
   "name": "python3"
  },
  "language_info": {
   "codemirror_mode": {
    "name": "ipython",
    "version": 3
   },
   "file_extension": ".py",
   "mimetype": "text/x-python",
   "name": "python",
   "nbconvert_exporter": "python",
   "pygments_lexer": "ipython3",
   "version": "3.10.4"
  }
 },
 "nbformat": 4,
 "nbformat_minor": 5
}
