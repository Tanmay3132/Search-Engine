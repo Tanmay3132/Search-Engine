{
 "cells": [
  {
   "cell_type": "code",
   "execution_count": 1,
   "id": "85b10aa6",
   "metadata": {},
   "outputs": [],
   "source": [
    "import urllib.request\n",
    "import re"
   ]
  },
  {
   "cell_type": "code",
   "execution_count": 4,
   "id": "dd251d1d",
   "metadata": {},
   "outputs": [],
   "source": [
    "def extractYoutubeVideos(query):\n",
    "  temp='+'\n",
    "  formatted_query = query.lower().split()\n",
    "  query = temp.join(formatted_query)\n",
    "  html = urllib.request.urlopen(\"https://www.youtube.com/results?search_query=\"+query)\n",
    "  video_ids = re.findall(r\"watch\\?v=(\\S{11})\",html.read().decode())\n",
    "  for i in set(video_ids):\n",
    "    print(\"https://www.youtube.com/watch?v=\"+i)"
   ]
  },
  {
   "cell_type": "code",
   "execution_count": 5,
   "id": "57a8ffe6",
   "metadata": {},
   "outputs": [
    {
     "name": "stdout",
     "output_type": "stream",
     "text": [
      "https://www.youtube.com/watch?v=JxgmHe2NyeY\n",
      "https://www.youtube.com/watch?v=R9OHn5ZF4Uo\n",
      "https://www.youtube.com/watch?v=IoZGSQ07e8g\n",
      "https://www.youtube.com/watch?v=mNB8NlwhAgg\n",
      "https://www.youtube.com/watch?v=fOGdb1CTu5c\n",
      "https://www.youtube.com/watch?v=CMrHM8a3hqw\n",
      "https://www.youtube.com/watch?v=nTMPYYN2NFo\n",
      "https://www.youtube.com/watch?v=ItQowHSm9WY\n",
      "https://www.youtube.com/watch?v=GwIo3gDZCVQ\n",
      "https://www.youtube.com/watch?v=YHcAQKrh3E4\n",
      "https://www.youtube.com/watch?v=h0e2HAPTGF4\n",
      "https://www.youtube.com/watch?v=u9fhLChk3mE\n",
      "https://www.youtube.com/watch?v=Y4qO9unerGs\n",
      "https://www.youtube.com/watch?v=4UJelID_ICw\n",
      "https://www.youtube.com/watch?v=RVJV8VGa1ZY\n",
      "https://www.youtube.com/watch?v=d2kxUVwWWwU\n",
      "https://www.youtube.com/watch?v=cE-Ej1ycXtk\n",
      "https://www.youtube.com/watch?v=i_LwzRVP7bg\n",
      "https://www.youtube.com/watch?v=v3UBlEJDXR0\n",
      "https://www.youtube.com/watch?v=jtn-hRJjl68\n",
      "https://www.youtube.com/watch?v=HcqpanDadyQ\n",
      "https://www.youtube.com/watch?v=yRpLlJmRo2w\n",
      "https://www.youtube.com/watch?v=AopGnnPPczY\n",
      "https://www.youtube.com/watch?v=SX08NT55YhA\n",
      "https://www.youtube.com/watch?v=-TjLX93w64A\n",
      "https://www.youtube.com/watch?v=5q87K1WaoFI\n",
      "https://www.youtube.com/watch?v=ukzFI9rgwfU\n",
      "https://www.youtube.com/watch?v=I2ZK3ngNvvI\n",
      "https://www.youtube.com/watch?v=qWru-b6m030\n",
      "https://www.youtube.com/watch?v=QcUey-DVYjk\n",
      "https://www.youtube.com/watch?v=maCVf_t3M2A\n",
      "https://www.youtube.com/watch?v=bUmULlGACEI\n",
      "https://www.youtube.com/watch?v=RnFGwxJwx-0\n",
      "https://www.youtube.com/watch?v=hxpGzAb-pyc\n",
      "https://www.youtube.com/watch?v=7eh4d6sabA0\n",
      "https://www.youtube.com/watch?v=iyb38dzetRk\n",
      "https://www.youtube.com/watch?v=r5xYuAMpeoE\n",
      "https://www.youtube.com/watch?v=1vsmaEfbnoE\n",
      "https://www.youtube.com/watch?v=Av0oMG49FQE\n",
      "https://www.youtube.com/watch?v=olFxW7kdtP8\n",
      "https://www.youtube.com/watch?v=NWONeJKn6kc\n",
      "https://www.youtube.com/watch?v=hjh1ikznScg\n",
      "https://www.youtube.com/watch?v=lsf060bLH_Y\n"
     ]
    }
   ],
   "source": [
    "extractYoutubeVideos(\"Machine Learning\")"
   ]
  }
 ],
 "metadata": {
  "kernelspec": {
   "display_name": "Python 3 (ipykernel)",
   "language": "python",
   "name": "python3"
  },
  "language_info": {
   "codemirror_mode": {
    "name": "ipython",
    "version": 3
   },
   "file_extension": ".py",
   "mimetype": "text/x-python",
   "name": "python",
   "nbconvert_exporter": "python",
   "pygments_lexer": "ipython3",
   "version": "3.10.4"
  }
 },
 "nbformat": 4,
 "nbformat_minor": 5
}
