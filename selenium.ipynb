{
 "cells": [
  {
   "cell_type": "code",
   "execution_count": 15,
   "id": "bfa7fb8b",
   "metadata": {},
   "outputs": [
    {
     "name": "stdout",
     "output_type": "stream",
     "text": [
      "Requirement already satisfied: selenium in c:\\users\\dell\\appdata\\local\\programs\\python\\python310\\lib\\site-packages (4.6.0)\n",
      "Requirement already satisfied: certifi>=2021.10.8 in c:\\users\\dell\\appdata\\local\\programs\\python\\python310\\lib\\site-packages (from selenium) (2021.10.8)\n",
      "Requirement already satisfied: urllib3[socks]~=1.26 in c:\\users\\dell\\appdata\\local\\programs\\python\\python310\\lib\\site-packages (from selenium) (1.26.9)\n",
      "Requirement already satisfied: trio~=0.17 in c:\\users\\dell\\appdata\\local\\programs\\python\\python310\\lib\\site-packages (from selenium) (0.22.0)\n",
      "Requirement already satisfied: trio-websocket~=0.9 in c:\\users\\dell\\appdata\\local\\programs\\python\\python310\\lib\\site-packages (from selenium) (0.9.2)\n",
      "Requirement already satisfied: attrs>=19.2.0 in c:\\users\\dell\\appdata\\local\\programs\\python\\python310\\lib\\site-packages (from trio~=0.17->selenium) (22.1.0)\n",
      "Requirement already satisfied: sortedcontainers in c:\\users\\dell\\appdata\\local\\programs\\python\\python310\\lib\\site-packages (from trio~=0.17->selenium) (2.4.0)\n",
      "Requirement already satisfied: sniffio in c:\\users\\dell\\appdata\\local\\programs\\python\\python310\\lib\\site-packages (from trio~=0.17->selenium) (1.3.0)\n",
      "Requirement already satisfied: async-generator>=1.9 in c:\\users\\dell\\appdata\\local\\programs\\python\\python310\\lib\\site-packages (from trio~=0.17->selenium) (1.10)\n",
      "Requirement already satisfied: exceptiongroup>=1.0.0rc9 in c:\\users\\dell\\appdata\\local\\programs\\python\\python310\\lib\\site-packages (from trio~=0.17->selenium) (1.0.1)\n",
      "Requirement already satisfied: outcome in c:\\users\\dell\\appdata\\local\\programs\\python\\python310\\lib\\site-packages (from trio~=0.17->selenium) (1.2.0)\n",
      "Requirement already satisfied: cffi>=1.14 in c:\\users\\dell\\appdata\\local\\programs\\python\\python310\\lib\\site-packages (from trio~=0.17->selenium) (1.15.1)\n",
      "Requirement already satisfied: idna in c:\\users\\dell\\appdata\\local\\programs\\python\\python310\\lib\\site-packages (from trio~=0.17->selenium) (3.3)\n",
      "Requirement already satisfied: wsproto>=0.14 in c:\\users\\dell\\appdata\\local\\programs\\python\\python310\\lib\\site-packages (from trio-websocket~=0.9->selenium) (1.2.0)\n",
      "Requirement already satisfied: PySocks!=1.5.7,<2.0,>=1.5.6 in c:\\users\\dell\\appdata\\local\\programs\\python\\python310\\lib\\site-packages (from urllib3[socks]~=1.26->selenium) (1.7.1)\n",
      "Requirement already satisfied: pycparser in c:\\users\\dell\\appdata\\local\\programs\\python\\python310\\lib\\site-packages (from cffi>=1.14->trio~=0.17->selenium) (2.21)\n",
      "Requirement already satisfied: h11<1,>=0.9.0 in c:\\users\\dell\\appdata\\local\\programs\\python\\python310\\lib\\site-packages (from wsproto>=0.14->trio-websocket~=0.9->selenium) (0.14.0)\n"
     ]
    }
   ],
   "source": [
    "!pip install selenium\n"
   ]
  },
  {
   "cell_type": "code",
   "execution_count": null,
   "id": "cf738a65",
   "metadata": {},
   "outputs": [],
   "source": []
  },
  {
   "cell_type": "code",
   "execution_count": 9,
   "id": "70c37098",
   "metadata": {},
   "outputs": [],
   "source": [
    "from selenium import webdriver\n",
    "from selenium.webdriver.common.keys import Keys\n",
    "from selenium.webdriver.chrome.service import Service\n",
    "from selenium.webdriver.chrome.options import Options\n",
    "from selenium.webdriver.support.wait import WebDriverWait\n",
    "from selenium.webdriver.common.by import By\n",
    "import time"
   ]
  },
  {
   "cell_type": "code",
   "execution_count": 10,
   "id": "0439df7f",
   "metadata": {},
   "outputs": [
    {
     "name": "stderr",
     "output_type": "stream",
     "text": [
      "C:\\Users\\DELL\\AppData\\Local\\Temp\\ipykernel_15008\\3965837803.py:6: DeprecationWarning: use options instead of chrome_options\n",
      "  driver = webdriver.Chrome(service=Service(PATH),chrome_options=chrome_options)\n"
     ]
    }
   ],
   "source": [
    "PATH = \"./chromedriver.exe\"\n",
    "chrome_options = webdriver.ChromeOptions()\n",
    "chrome_options.add_argument('--headless')\n",
    "chrome_options.add_argument('--no-sandbox')\n",
    "chrome_options.add_argument('--disable-dev-shm-usage')\n",
    "driver = webdriver.Chrome(service=Service(PATH),chrome_options=chrome_options)"
   ]
  },
  {
   "cell_type": "code",
   "execution_count": 11,
   "id": "c6ecd9e8",
   "metadata": {},
   "outputs": [
    {
     "name": "stdout",
     "output_type": "stream",
     "text": [
      "Requirement already satisfied: bs4 in c:\\users\\dell\\appdata\\local\\programs\\python\\python310\\lib\\site-packages (0.0.1)\n",
      "Requirement already satisfied: beautifulsoup4 in c:\\users\\dell\\appdata\\local\\programs\\python\\python310\\lib\\site-packages (from bs4) (4.11.1)\n",
      "Requirement already satisfied: soupsieve>1.2 in c:\\users\\dell\\appdata\\local\\programs\\python\\python310\\lib\\site-packages (from beautifulsoup4->bs4) (2.3.2.post1)\n"
     ]
    }
   ],
   "source": [
    "!pip install bs4"
   ]
  },
  {
   "cell_type": "code",
   "execution_count": 12,
   "id": "5d600b68",
   "metadata": {},
   "outputs": [],
   "source": [
    "def link_from_category(category_link, category, n_pages):\n",
    "  class_from_categ = {\"News\":\"SoaBEf\", \"Videos\":\"MjjYud\"} #class tag for categories\n",
    "  class_tag = \"\"\n",
    "  class_tag = class_from_categ[category]\n",
    "\n",
    "  results = [] # list for storing all the links\n",
    "\n",
    "\n",
    "  for page in range(1, n_pages):\n",
    "    url = category_link +  str((page - 1) * 10) \n",
    "    driver.get(url)\n",
    "\n",
    "    soup = BeautifulSoup(driver.page_source, 'html.parser')\n",
    "    search = soup.find_all('div', class_=class_tag )\n",
    "    for h in search:\n",
    "        results.append(h.a.get('href'))\n",
    "\n",
    "    \n",
    "  return results"
   ]
  },
  {
   "cell_type": "code",
   "execution_count": 13,
   "id": "bf9d28cc",
   "metadata": {},
   "outputs": [],
   "source": [
    "def links_for_search(query, n_pages=10):\n",
    "\n",
    "  # redirecting to google.com\n",
    "  driver.get(\"https://www.google.com\")\n",
    "\n",
    "  # accessing the search bar and searching the specified query\n",
    "  search_bar = driver.find_element(\"name\", \"q\")\n",
    "  search_bar.clear()\n",
    "  search_bar.send_keys(query)\n",
    "  search_bar.send_keys(Keys.RETURN)\n",
    "\n",
    "  # fetching the news and videos links for the specified query\n",
    "  category_list = [\"News\", \"Videos\"]\n",
    "  category_link = []\n",
    "  for i in category_list:\n",
    "    category_link.append(driver.find_element(By.LINK_TEXT, i).get_attribute('href'))\n",
    "\n",
    "\n",
    "  # list for storing all the links\n",
    "  result_links = []\n",
    "\n",
    "  # fetching all the links for news articles\n",
    "  result_links.append(link_from_category(category_link[0], \"News\",n_pages))\n",
    "\n",
    "  # fetching all the links for videos\n",
    "  result_links.append(link_from_category(category_link[1], \"Videos\",n_pages))\n",
    "\n",
    "  return result_links"
   ]
  },
  {
   "cell_type": "code",
   "execution_count": 14,
   "id": "2b52d64f",
   "metadata": {},
   "outputs": [
    {
     "name": "stdout",
     "output_type": "stream",
     "text": [
      "Enter the Keyword : machine learning\n"
     ]
    },
    {
     "ename": "NoSuchElementException",
     "evalue": "Message: no such element: Unable to locate element: {\"method\":\"link text\",\"selector\":\"News\"}\n  (Session info: headless chrome=107.0.5304.108)\nStacktrace:\nBacktrace:\n\tOrdinal0 [0x00AEACD3+2075859]\n\tOrdinal0 [0x00A7EE61+1633889]\n\tOrdinal0 [0x0097B7BD+571325]\n\tOrdinal0 [0x009AAC2F+764975]\n\tOrdinal0 [0x009AAE1B+765467]\n\tOrdinal0 [0x009DD0F2+970994]\n\tOrdinal0 [0x009C7364+881508]\n\tOrdinal0 [0x009DB56A+963946]\n\tOrdinal0 [0x009C7136+880950]\n\tOrdinal0 [0x0099FEFD+720637]\n\tOrdinal0 [0x009A0F3F+724799]\n\tGetHandleVerifier [0x00D9EED2+2769538]\n\tGetHandleVerifier [0x00D90D95+2711877]\n\tGetHandleVerifier [0x00B7A03A+521194]\n\tGetHandleVerifier [0x00B78DA0+516432]\n\tOrdinal0 [0x00A8682C+1665068]\n\tOrdinal0 [0x00A8B128+1683752]\n\tOrdinal0 [0x00A8B215+1683989]\n\tOrdinal0 [0x00A96484+1729668]\n\tBaseThreadInitThunk [0x76506939+25]\n\tRtlGetFullPathName_UEx [0x778C8FD2+1218]\n\tRtlGetFullPathName_UEx [0x778C8F9D+1165]\n",
     "output_type": "error",
     "traceback": [
      "\u001b[1;31m---------------------------------------------------------------------------\u001b[0m",
      "\u001b[1;31mNoSuchElementException\u001b[0m                    Traceback (most recent call last)",
      "Cell \u001b[1;32mIn [14], line 5\u001b[0m\n\u001b[0;32m      2\u001b[0m search_req \u001b[38;5;241m=\u001b[39m \u001b[38;5;124m\"\u001b[39m\u001b[38;5;124mData Science\u001b[39m\u001b[38;5;124m\"\u001b[39m\n\u001b[0;32m      4\u001b[0m start_time \u001b[38;5;241m=\u001b[39m time\u001b[38;5;241m.\u001b[39mtime()\n\u001b[1;32m----> 5\u001b[0m links \u001b[38;5;241m=\u001b[39m \u001b[43mlinks_for_search\u001b[49m\u001b[43m(\u001b[49m\u001b[43msearch_req\u001b[49m\u001b[43m,\u001b[49m\u001b[38;5;241;43m10\u001b[39;49m\u001b[43m)\u001b[49m \u001b[38;5;66;03m# links_for_search(your_query, no_of_pages)\u001b[39;00m\n\u001b[0;32m      6\u001b[0m end_time \u001b[38;5;241m=\u001b[39m time\u001b[38;5;241m.\u001b[39mtime() \u001b[38;5;241m-\u001b[39m start_time\n\u001b[0;32m      8\u001b[0m \u001b[38;5;28mprint\u001b[39m(\u001b[38;5;124m\"\u001b[39m\u001b[38;5;124mTime taken for serial implementation:\u001b[39m\u001b[38;5;124m\"\u001b[39m, end_time)\n",
      "Cell \u001b[1;32mIn [13], line 16\u001b[0m, in \u001b[0;36mlinks_for_search\u001b[1;34m(query, n_pages)\u001b[0m\n\u001b[0;32m     14\u001b[0m category_link \u001b[38;5;241m=\u001b[39m []\n\u001b[0;32m     15\u001b[0m \u001b[38;5;28;01mfor\u001b[39;00m i \u001b[38;5;129;01min\u001b[39;00m category_list:\n\u001b[1;32m---> 16\u001b[0m   category_link\u001b[38;5;241m.\u001b[39mappend(\u001b[43mdriver\u001b[49m\u001b[38;5;241;43m.\u001b[39;49m\u001b[43mfind_element\u001b[49m\u001b[43m(\u001b[49m\u001b[43mBy\u001b[49m\u001b[38;5;241;43m.\u001b[39;49m\u001b[43mLINK_TEXT\u001b[49m\u001b[43m,\u001b[49m\u001b[43m \u001b[49m\u001b[43mi\u001b[49m\u001b[43m)\u001b[49m\u001b[38;5;241m.\u001b[39mget_attribute(\u001b[38;5;124m'\u001b[39m\u001b[38;5;124mhref\u001b[39m\u001b[38;5;124m'\u001b[39m))\n\u001b[0;32m     19\u001b[0m \u001b[38;5;66;03m# list for storing all the links\u001b[39;00m\n\u001b[0;32m     20\u001b[0m result_links \u001b[38;5;241m=\u001b[39m []\n",
      "File \u001b[1;32m~\\AppData\\Local\\Programs\\Python\\Python310\\lib\\site-packages\\selenium\\webdriver\\remote\\webdriver.py:861\u001b[0m, in \u001b[0;36mWebDriver.find_element\u001b[1;34m(self, by, value)\u001b[0m\n\u001b[0;32m    858\u001b[0m     by \u001b[38;5;241m=\u001b[39m By\u001b[38;5;241m.\u001b[39mCSS_SELECTOR\n\u001b[0;32m    859\u001b[0m     value \u001b[38;5;241m=\u001b[39m \u001b[38;5;124m'\u001b[39m\u001b[38;5;124m[name=\u001b[39m\u001b[38;5;124m\"\u001b[39m\u001b[38;5;132;01m%s\u001b[39;00m\u001b[38;5;124m\"\u001b[39m\u001b[38;5;124m]\u001b[39m\u001b[38;5;124m'\u001b[39m \u001b[38;5;241m%\u001b[39m value\n\u001b[1;32m--> 861\u001b[0m \u001b[38;5;28;01mreturn\u001b[39;00m \u001b[38;5;28;43mself\u001b[39;49m\u001b[38;5;241;43m.\u001b[39;49m\u001b[43mexecute\u001b[49m\u001b[43m(\u001b[49m\u001b[43mCommand\u001b[49m\u001b[38;5;241;43m.\u001b[39;49m\u001b[43mFIND_ELEMENT\u001b[49m\u001b[43m,\u001b[49m\u001b[43m \u001b[49m\u001b[43m{\u001b[49m\u001b[38;5;124;43m\"\u001b[39;49m\u001b[38;5;124;43musing\u001b[39;49m\u001b[38;5;124;43m\"\u001b[39;49m\u001b[43m:\u001b[49m\u001b[43m \u001b[49m\u001b[43mby\u001b[49m\u001b[43m,\u001b[49m\u001b[43m \u001b[49m\u001b[38;5;124;43m\"\u001b[39;49m\u001b[38;5;124;43mvalue\u001b[39;49m\u001b[38;5;124;43m\"\u001b[39;49m\u001b[43m:\u001b[49m\u001b[43m \u001b[49m\u001b[43mvalue\u001b[49m\u001b[43m}\u001b[49m\u001b[43m)\u001b[49m[\u001b[38;5;124m\"\u001b[39m\u001b[38;5;124mvalue\u001b[39m\u001b[38;5;124m\"\u001b[39m]\n",
      "File \u001b[1;32m~\\AppData\\Local\\Programs\\Python\\Python310\\lib\\site-packages\\selenium\\webdriver\\remote\\webdriver.py:444\u001b[0m, in \u001b[0;36mWebDriver.execute\u001b[1;34m(self, driver_command, params)\u001b[0m\n\u001b[0;32m    442\u001b[0m response \u001b[38;5;241m=\u001b[39m \u001b[38;5;28mself\u001b[39m\u001b[38;5;241m.\u001b[39mcommand_executor\u001b[38;5;241m.\u001b[39mexecute(driver_command, params)\n\u001b[0;32m    443\u001b[0m \u001b[38;5;28;01mif\u001b[39;00m response:\n\u001b[1;32m--> 444\u001b[0m     \u001b[38;5;28;43mself\u001b[39;49m\u001b[38;5;241;43m.\u001b[39;49m\u001b[43merror_handler\u001b[49m\u001b[38;5;241;43m.\u001b[39;49m\u001b[43mcheck_response\u001b[49m\u001b[43m(\u001b[49m\u001b[43mresponse\u001b[49m\u001b[43m)\u001b[49m\n\u001b[0;32m    445\u001b[0m     response[\u001b[38;5;124m\"\u001b[39m\u001b[38;5;124mvalue\u001b[39m\u001b[38;5;124m\"\u001b[39m] \u001b[38;5;241m=\u001b[39m \u001b[38;5;28mself\u001b[39m\u001b[38;5;241m.\u001b[39m_unwrap_value(response\u001b[38;5;241m.\u001b[39mget(\u001b[38;5;124m\"\u001b[39m\u001b[38;5;124mvalue\u001b[39m\u001b[38;5;124m\"\u001b[39m, \u001b[38;5;28;01mNone\u001b[39;00m))\n\u001b[0;32m    446\u001b[0m     \u001b[38;5;28;01mreturn\u001b[39;00m response\n",
      "File \u001b[1;32m~\\AppData\\Local\\Programs\\Python\\Python310\\lib\\site-packages\\selenium\\webdriver\\remote\\errorhandler.py:249\u001b[0m, in \u001b[0;36mErrorHandler.check_response\u001b[1;34m(self, response)\u001b[0m\n\u001b[0;32m    247\u001b[0m         alert_text \u001b[38;5;241m=\u001b[39m value[\u001b[38;5;124m\"\u001b[39m\u001b[38;5;124malert\u001b[39m\u001b[38;5;124m\"\u001b[39m]\u001b[38;5;241m.\u001b[39mget(\u001b[38;5;124m\"\u001b[39m\u001b[38;5;124mtext\u001b[39m\u001b[38;5;124m\"\u001b[39m)\n\u001b[0;32m    248\u001b[0m     \u001b[38;5;28;01mraise\u001b[39;00m exception_class(message, screen, stacktrace, alert_text)  \u001b[38;5;66;03m# type: ignore[call-arg]  # mypy is not smart enough here\u001b[39;00m\n\u001b[1;32m--> 249\u001b[0m \u001b[38;5;28;01mraise\u001b[39;00m exception_class(message, screen, stacktrace)\n",
      "\u001b[1;31mNoSuchElementException\u001b[0m: Message: no such element: Unable to locate element: {\"method\":\"link text\",\"selector\":\"News\"}\n  (Session info: headless chrome=107.0.5304.108)\nStacktrace:\nBacktrace:\n\tOrdinal0 [0x00AEACD3+2075859]\n\tOrdinal0 [0x00A7EE61+1633889]\n\tOrdinal0 [0x0097B7BD+571325]\n\tOrdinal0 [0x009AAC2F+764975]\n\tOrdinal0 [0x009AAE1B+765467]\n\tOrdinal0 [0x009DD0F2+970994]\n\tOrdinal0 [0x009C7364+881508]\n\tOrdinal0 [0x009DB56A+963946]\n\tOrdinal0 [0x009C7136+880950]\n\tOrdinal0 [0x0099FEFD+720637]\n\tOrdinal0 [0x009A0F3F+724799]\n\tGetHandleVerifier [0x00D9EED2+2769538]\n\tGetHandleVerifier [0x00D90D95+2711877]\n\tGetHandleVerifier [0x00B7A03A+521194]\n\tGetHandleVerifier [0x00B78DA0+516432]\n\tOrdinal0 [0x00A8682C+1665068]\n\tOrdinal0 [0x00A8B128+1683752]\n\tOrdinal0 [0x00A8B215+1683989]\n\tOrdinal0 [0x00A96484+1729668]\n\tBaseThreadInitThunk [0x76506939+25]\n\tRtlGetFullPathName_UEx [0x778C8FD2+1218]\n\tRtlGetFullPathName_UEx [0x778C8F9D+1165]\n"
     ]
    }
   ],
   "source": [
    "search_input = input(\"Enter the Keyword : \")\n",
    "search_req = \"Data Science\"\n",
    "\n",
    "start_time = time.time()\n",
    "links = links_for_search(search_req,10) # links_for_search(your_query, no_of_pages)\n",
    "end_time = time.time() - start_time\n",
    "\n",
    "print(\"Time taken for serial implementation:\", end_time)"
   ]
  },
  {
   "cell_type": "code",
   "execution_count": 29,
   "id": "c75f25c0",
   "metadata": {},
   "outputs": [
    {
     "name": "stdout",
     "output_type": "stream",
     "text": [
      "News article links: \n",
      "https://www.analyticsinsight.net/top-10-portals-to-land-a-six-figure-data-science-job-in-2023/\n",
      "https://cio.economictimes.indiatimes.com/news/consumer-tech/leverage-the-boom-in-data-science-by-upskilling-yourself-with-this-data-science-course-from-iisc/95672988\n",
      "https://venturebeat.com/ai/want-to-be-a-data-scientist-in-2023-heres-what-you-need-to-know/\n",
      "https://builtin.com/data-science/types-of-data-analysis\n",
      "https://finance.yahoo.com/news/15-biggest-data-science-companies-104813822.html\n",
      "https://www.digitaljournal.com/pr/data-science-platform-market-is-anticipated-to-reach-us-293-2-billion-by-2027-registering-a-cagr-of-29-8-alteryx-inc-anaconda-inc-bigml-inc-datarobot-inc-google-2\n",
      "https://indianexpress.com/article/education/web-development-software-tester-data-scientist-check-top-it-internships-8224964/\n",
      "https://medium.com/@keith-mcnulty/how-i-reversed-my-diabetes-using-personalized-data-science-69075a48fc2?source=topics_v2---------46-84--------------------d7026810_a8e7_4ad9_8265_1329296e4920-------17\n",
      "https://www.analyticsinsight.net/top-10-recession-proof-programming-language-jobs-in-2023/\n",
      "https://www.analyticsinsight.net/top-10-data-science-developer-questions-asked-in-interviews/\n",
      "\n",
      "Videos links\n",
      "/search?tbm=vid&q=Data+Science+tutorial&sa=X&ved=2ahUKEwiIzfvqosL7AhXfwzgGHdatDO8Q1QJ6BAgSEAE\n",
      "https://emeritus.org/in/learn/what-is-data-science/\n",
      "/search?tbm=vid&q=Data+Science+tutorial&sa=X&ved=2ahUKEwjQtIDposL7AhU-yzgGHbBGBO0Q1QJ6BAgNEAE\n",
      "/search?tbm=vid&q=Data+Science+tutorial&sa=X&ved=2ahUKEwjJ_8HqosL7AhU5pekKHddcBe8Q1QJ6BAgNEAE\n",
      "https://www.youtube.com/watch?v=-ETQ97mXXF0\n",
      "https://www.simplilearn.com/tutorials/data-science-tutorial/what-is-data-science\n",
      "https://www.youtube.com/watch?v=X3paOmcrTjQ\n",
      "/search?tbm=vid&q=Data+Science+tutorial&sa=X&ved=2ahUKEwiC36ProsL7AhVX7zgGHTbvAe8Q1QJ6BAgJEAE\n",
      "https://intellipaat.com/blog/what-is-data-science/\n",
      "https://www.youtube.com/watch?v=uswU1s3M2VE\n",
      "/search?tbm=vid&q=Data+Science+tutorial&sa=X&ved=2ahUKEwjzzNvrosL7AhVRwzgGHeXXBe0Q1QJ6BAgPEAE\n",
      "/search?tbm=vid&q=Data+Science+tutorial&sa=X&ved=2ahUKEwj10M7sosL7AhXTzDgGHTGbBfgQ1QJ6BAgLEAE\n",
      "https://www.techtarget.com/searchenterpriseai/definition/data-science\n",
      "/search?tbm=vid&q=Data+Science+tutorial&sa=X&ved=2ahUKEwizl7vposL7AhVuwzgGHYqtCe0Q1QJ6BAgNEAE\n",
      "https://www.youtube.com/watch?v=RBSUwFGa6Fk\n",
      "/search?tbm=vid&q=Data+Science+tutorial&sa=X&ved=2ahUKEwiX0P7posL7AhVm1zgGHUjZBO0Q1QJ6BAgPEAE\n",
      "https://datasciencedegree.wisconsin.edu/data-science/what-do-data-scientists-do/\n",
      "/search?tbm=vid&q=Data+Science+tutorial&sa=X&ved=2ahUKEwj29JPsosL7AhVu1zgGHYoxBO8Q1QJ6BAgNEAE\n",
      "https://www.javatpoint.com/data-science\n"
     ]
    }
   ],
   "source": [
    "print(\"News article links: \")\n",
    "for i in set(links[0]):\n",
    "  print(i)\n",
    "\n",
    "print()\n",
    "print(\"Videos links\")\n",
    "for i in set(links[1]):\n",
    "  print(i)"
   ]
  }
 ],
 "metadata": {
  "kernelspec": {
   "display_name": "Python 3 (ipykernel)",
   "language": "python",
   "name": "python3"
  },
  "language_info": {
   "codemirror_mode": {
    "name": "ipython",
    "version": 3
   },
   "file_extension": ".py",
   "mimetype": "text/x-python",
   "name": "python",
   "nbconvert_exporter": "python",
   "pygments_lexer": "ipython3",
   "version": "3.10.4"
  }
 },
 "nbformat": 4,
 "nbformat_minor": 5
}
