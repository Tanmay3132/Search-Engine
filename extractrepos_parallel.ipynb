{
 "cells": [
  {
   "cell_type": "code",
   "execution_count": 1,
   "id": "5180406b",
   "metadata": {},
   "outputs": [],
   "source": [
    "from github import Github\n",
    "\n",
    "def extract_repos(userquery, repos_results, count=7):\n",
    "    g = Github()\n",
    "    \n",
    "    repositories = g.search_repositories(query=userquery)\n",
    "    for i in range(count):\n",
    "        repos_results.append(tuple(['https://github.com/'+ repositories[i].full_name, repositories[i].stargazers_count]))"
   ]
  }
 ],
 "metadata": {
  "kernelspec": {
   "display_name": "Python 3 (ipykernel)",
   "language": "python",
   "name": "python3"
  },
  "language_info": {
   "codemirror_mode": {
    "name": "ipython",
    "version": 3
   },
   "file_extension": ".py",
   "mimetype": "text/x-python",
   "name": "python",
   "nbconvert_exporter": "python",
   "pygments_lexer": "ipython3",
   "version": "3.10.4"
  }
 },
 "nbformat": 4,
 "nbformat_minor": 5
}
