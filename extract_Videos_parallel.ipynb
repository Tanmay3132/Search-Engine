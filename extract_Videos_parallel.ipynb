{
 "cells": [
  {
   "cell_type": "code",
   "execution_count": 1,
   "id": "854fb37a",
   "metadata": {},
   "outputs": [],
   "source": [
    "import urllib.request\n",
    "import re\n",
    "\n",
    "def extractYoutubeVideos(query, videos_results):\n",
    "  temp='+'\n",
    "  formatted_query = query.lower().split()\n",
    "  query = temp.join(formatted_query)\n",
    "  html = urllib.request.urlopen(\"https://www.youtube.com/results?search_query=\"+query)\n",
    "  video_ids = re.findall(r\"watch\\?v=(\\S{11})\",html.read().decode())\n",
    "  for i in video_ids:\n",
    "    videos_results.append(\"https://www.youtube.com/watch?v=\"+i)"
   ]
  }
 ],
 "metadata": {
  "kernelspec": {
   "display_name": "Python 3 (ipykernel)",
   "language": "python",
   "name": "python3"
  },
  "language_info": {
   "codemirror_mode": {
    "name": "ipython",
    "version": 3
   },
   "file_extension": ".py",
   "mimetype": "text/x-python",
   "name": "python",
   "nbconvert_exporter": "python",
   "pygments_lexer": "ipython3",
   "version": "3.10.4"
  }
 },
 "nbformat": 4,
 "nbformat_minor": 5
}
