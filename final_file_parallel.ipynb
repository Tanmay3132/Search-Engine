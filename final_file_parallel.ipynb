{
 "cells": [
  {
   "cell_type": "code",
   "execution_count": 18,
   "id": "00f9d592",
   "metadata": {},
   "outputs": [
    {
     "name": "stdout",
     "output_type": "stream",
     "text": [
      "Requirement already satisfied: selenium in c:\\users\\dell\\appdata\\local\\programs\\python\\python310\\lib\\site-packages (4.6.0)\n",
      "Requirement already satisfied: urllib3[socks]~=1.26 in c:\\users\\dell\\appdata\\local\\programs\\python\\python310\\lib\\site-packages (from selenium) (1.26.9)\n",
      "Requirement already satisfied: certifi>=2021.10.8 in c:\\users\\dell\\appdata\\local\\programs\\python\\python310\\lib\\site-packages (from selenium) (2021.10.8)\n",
      "Requirement already satisfied: trio~=0.17 in c:\\users\\dell\\appdata\\local\\programs\\python\\python310\\lib\\site-packages (from selenium) (0.22.0)\n",
      "Requirement already satisfied: trio-websocket~=0.9 in c:\\users\\dell\\appdata\\local\\programs\\python\\python310\\lib\\site-packages (from selenium) (0.9.2)\n",
      "Requirement already satisfied: async-generator>=1.9 in c:\\users\\dell\\appdata\\local\\programs\\python\\python310\\lib\\site-packages (from trio~=0.17->selenium) (1.10)\n",
      "Requirement already satisfied: sortedcontainers in c:\\users\\dell\\appdata\\local\\programs\\python\\python310\\lib\\site-packages (from trio~=0.17->selenium) (2.4.0)\n",
      "Requirement already satisfied: attrs>=19.2.0 in c:\\users\\dell\\appdata\\local\\programs\\python\\python310\\lib\\site-packages (from trio~=0.17->selenium) (22.1.0)\n",
      "Requirement already satisfied: cffi>=1.14 in c:\\users\\dell\\appdata\\local\\programs\\python\\python310\\lib\\site-packages (from trio~=0.17->selenium) (1.15.1)\n",
      "Requirement already satisfied: exceptiongroup>=1.0.0rc9 in c:\\users\\dell\\appdata\\local\\programs\\python\\python310\\lib\\site-packages (from trio~=0.17->selenium) (1.0.1)\n",
      "Requirement already satisfied: idna in c:\\users\\dell\\appdata\\local\\programs\\python\\python310\\lib\\site-packages (from trio~=0.17->selenium) (3.3)\n",
      "Requirement already satisfied: sniffio in c:\\users\\dell\\appdata\\local\\programs\\python\\python310\\lib\\site-packages (from trio~=0.17->selenium) (1.3.0)\n",
      "Requirement already satisfied: outcome in c:\\users\\dell\\appdata\\local\\programs\\python\\python310\\lib\\site-packages (from trio~=0.17->selenium) (1.2.0)\n",
      "Requirement already satisfied: wsproto>=0.14 in c:\\users\\dell\\appdata\\local\\programs\\python\\python310\\lib\\site-packages (from trio-websocket~=0.9->selenium) (1.2.0)\n",
      "Requirement already satisfied: PySocks!=1.5.7,<2.0,>=1.5.6 in c:\\users\\dell\\appdata\\local\\programs\\python\\python310\\lib\\site-packages (from urllib3[socks]~=1.26->selenium) (1.7.1)\n",
      "Requirement already satisfied: pycparser in c:\\users\\dell\\appdata\\local\\programs\\python\\python310\\lib\\site-packages (from cffi>=1.14->trio~=0.17->selenium) (2.21)\n",
      "Requirement already satisfied: h11<1,>=0.9.0 in c:\\users\\dell\\appdata\\local\\programs\\python\\python310\\lib\\site-packages (from wsproto>=0.14->trio-websocket~=0.9->selenium) (0.14.0)\n"
     ]
    }
   ],
   "source": [
    "!pip install selenium"
   ]
  },
  {
   "cell_type": "code",
   "execution_count": 19,
   "id": "83e12f22",
   "metadata": {},
   "outputs": [],
   "source": [
    "from selenium import webdriver\n",
    "from selenium.webdriver.common.keys import Keys\n",
    "from selenium.webdriver.chrome.service import Service\n",
    "from selenium.webdriver.chrome.options import Options\n",
    "from selenium.webdriver.support.wait import WebDriverWait\n",
    "from selenium.webdriver.common.by import By\n",
    "import time"
   ]
  },
  {
   "cell_type": "code",
   "execution_count": 20,
   "id": "ad50b27a",
   "metadata": {},
   "outputs": [
    {
     "name": "stderr",
     "output_type": "stream",
     "text": [
      "C:\\Users\\DELL\\AppData\\Local\\Temp\\ipykernel_13684\\3965837803.py:6: DeprecationWarning: use options instead of chrome_options\n",
      "  driver = webdriver.Chrome(service=Service(PATH),chrome_options=chrome_options)\n"
     ]
    }
   ],
   "source": [
    "PATH = \"./chromedriver.exe\"\n",
    "chrome_options = webdriver.ChromeOptions()\n",
    "chrome_options.add_argument('--headless')\n",
    "chrome_options.add_argument('--no-sandbox')\n",
    "chrome_options.add_argument('--disable-dev-shm-usage')\n",
    "driver = webdriver.Chrome(service=Service(PATH),chrome_options=chrome_options)"
   ]
  },
  {
   "cell_type": "code",
   "execution_count": 21,
   "id": "69ad86d4",
   "metadata": {},
   "outputs": [
    {
     "name": "stdout",
     "output_type": "stream",
     "text": [
      "Requirement already satisfied: PyGithub in c:\\users\\dell\\appdata\\local\\programs\\python\\python310\\lib\\site-packages (1.57)\n",
      "Requirement already satisfied: deprecated in c:\\users\\dell\\appdata\\local\\programs\\python\\python310\\lib\\site-packages (from PyGithub) (1.2.13)\n",
      "Requirement already satisfied: requests>=2.14.0 in c:\\users\\dell\\appdata\\local\\programs\\python\\python310\\lib\\site-packages (from PyGithub) (2.27.1)\n",
      "Requirement already satisfied: pyjwt>=2.4.0 in c:\\users\\dell\\appdata\\local\\programs\\python\\python310\\lib\\site-packages (from PyGithub) (2.6.0)\n",
      "Requirement already satisfied: pynacl>=1.4.0 in c:\\users\\dell\\appdata\\local\\programs\\python\\python310\\lib\\site-packages (from PyGithub) (1.5.0)\n",
      "Requirement already satisfied: cffi>=1.4.1 in c:\\users\\dell\\appdata\\local\\programs\\python\\python310\\lib\\site-packages (from pynacl>=1.4.0->PyGithub) (1.15.1)\n",
      "Requirement already satisfied: certifi>=2017.4.17 in c:\\users\\dell\\appdata\\local\\programs\\python\\python310\\lib\\site-packages (from requests>=2.14.0->PyGithub) (2021.10.8)\n",
      "Requirement already satisfied: charset-normalizer~=2.0.0 in c:\\users\\dell\\appdata\\local\\programs\\python\\python310\\lib\\site-packages (from requests>=2.14.0->PyGithub) (2.0.12)\n",
      "Requirement already satisfied: idna<4,>=2.5 in c:\\users\\dell\\appdata\\local\\programs\\python\\python310\\lib\\site-packages (from requests>=2.14.0->PyGithub) (3.3)\n",
      "Requirement already satisfied: urllib3<1.27,>=1.21.1 in c:\\users\\dell\\appdata\\local\\programs\\python\\python310\\lib\\site-packages (from requests>=2.14.0->PyGithub) (1.26.9)\n",
      "Requirement already satisfied: wrapt<2,>=1.10 in c:\\users\\dell\\appdata\\local\\programs\\python\\python310\\lib\\site-packages (from deprecated->PyGithub) (1.14.0)\n",
      "Requirement already satisfied: pycparser in c:\\users\\dell\\appdata\\local\\programs\\python\\python310\\lib\\site-packages (from cffi>=1.4.1->pynacl>=1.4.0->PyGithub) (2.21)\n"
     ]
    }
   ],
   "source": [
    "!pip install PyGithub"
   ]
  },
  {
   "cell_type": "code",
   "execution_count": 22,
   "id": "a0e0eb8a",
   "metadata": {},
   "outputs": [
    {
     "name": "stdout",
     "output_type": "stream",
     "text": [
      "Requirement already satisfied: pymp-pypi in c:\\users\\dell\\appdata\\local\\programs\\python\\python310\\lib\\site-packages (0.5.0)\n"
     ]
    }
   ],
   "source": [
    "!pip install pymp-pypi"
   ]
  },
  {
   "cell_type": "code",
   "execution_count": 23,
   "id": "1dc9c3cd",
   "metadata": {},
   "outputs": [],
   "source": [
    "from selenium import webdriver\n",
    "from selenium.webdriver.common.keys import Keys\n",
    "from bs4 import BeautifulSoup\n",
    "import time"
   ]
  },
  {
   "cell_type": "code",
   "execution_count": 24,
   "id": "f359b791",
   "metadata": {},
   "outputs": [
    {
     "name": "stderr",
     "output_type": "stream",
     "text": [
      "C:\\Users\\DELL\\AppData\\Local\\Temp\\ipykernel_13684\\1480407603.py:6: DeprecationWarning: use options instead of chrome_options\n",
      "  driver = webdriver.Chrome(service=Service(PATH),chrome_options=chrome_options)\n"
     ]
    }
   ],
   "source": [
    "PATH = \"./chromedriver.exe\"\n",
    "chrome_options = webdriver.ChromeOptions()\n",
    "chrome_options.add_argument('--headless')\n",
    "chrome_options.add_argument('--no-sandbox')\n",
    "chrome_options.add_argument('--disable-dev-shm-usage')\n",
    "driver = webdriver.Chrome(service=Service(PATH),chrome_options=chrome_options)\n",
    "\n",
    "def link_from_category(category_link, category, n_pages):\n",
    "  class_from_categ = {\"News\":\"SoaBEf\", \"Videos\":\"MjjYud\"} #class tag for categories\n",
    "  class_tag = \"\"\n",
    "  class_tag = class_from_categ[category]\n",
    "\n",
    "  results = [] # list for storing all the links\n",
    "\n",
    "  for page in range(1, n_pages):\n",
    "    url = category_link +  str((page - 1) * 10) \n",
    "    driver.get(url)\n",
    "\n",
    "    soup = BeautifulSoup(driver.page_source, 'html.parser')\n",
    "    search = soup.find_all('div', class_=class_tag )\n",
    "\n",
    "    for h in search:\n",
    "        results.append(h.a.get('href'))\n",
    "\n",
    "    \n",
    "  return results\n",
    "def links_for_search_parallel(query, newslinks_results, n_pages=10):\n",
    "  print(\"LINK CALLED\")\n",
    "  driver.get(\"https://www.google.com\")\n",
    "  # accessing the search bar and searching the specified query\n",
    "  search_bar = driver.find_element(\"name\", \"q\")\n",
    "  search_bar.clear()\n",
    "  search_bar.send_keys(query)\n",
    "  search_bar.send_keys(Keys.RETURN)\n",
    "\n",
    "  # fetching the news and videos links for the specified query\n",
    "  category_list = [\"News\"]\n",
    "  category_link = []\n",
    "  for i in category_list:\n",
    "    category_link.append(driver.find_element(By.LINK_TEXT, i).get_attribute('href'))\n",
    "\n",
    "\n",
    "  # fetching all the links for news articles\n",
    "  newslinks_results.append(link_from_category(category_link[0], \"News\",n_pages))"
   ]
  },
  {
   "cell_type": "code",
   "execution_count": 25,
   "id": "a1123b05",
   "metadata": {},
   "outputs": [],
   "source": [
    "import threading"
   ]
  },
  {
   "cell_type": "code",
   "execution_count": 26,
   "id": "ea09c7e5",
   "metadata": {},
   "outputs": [],
   "source": [
    "from extract_Videos_parallel import extractYoutubeVideos\n",
    "from extractrepos_parallel import extract_repos\n",
    "# from parallel import links_for_search_parallel, links_for_search_parallel"
   ]
  },
  {
   "cell_type": "code",
   "execution_count": 27,
   "id": "0f799ac4",
   "metadata": {},
   "outputs": [
    {
     "name": "stdout",
     "output_type": "stream",
     "text": [
      "What do you want to search? machine learning\n",
      "3\n",
      "Time for parallel implementation: 1.9821584224700928\n"
     ]
    }
   ],
   "source": [
    "import multiprocessing\n",
    "\n",
    "final_results = []\n",
    "\n",
    "query = input(\"What do you want to search? \")\n",
    "start_time = time.time()\n",
    "with multiprocessing.Manager() as manager:\n",
    "  processes = manager.list([manager.list() for i in range(3)])\n",
    "\n",
    "  p1 = multiprocessing.Process(target=extractYoutubeVideos, args=(query, processes[0]))\n",
    "  p2 = multiprocessing.Process(target=extract_repos, args=(query, processes[1]))\n",
    "  p3 = multiprocessing.Process(target=links_for_search_parallel, args=(query, processes[2]))\n",
    "\n",
    "  p1.start()\n",
    "  p2.start()\n",
    "  p3.start()\n",
    "\n",
    "  p1.join()\n",
    "  p2.join()\n",
    "  p3.join()\n",
    "  print(len(processes))\n",
    "  # store the results in the global variable\n",
    "  for i in processes:\n",
    "    final_results.append(list(i))\n",
    "\n",
    "print(\"Time for parallel implementation:\",time.time()- start_time)"
   ]
  },
  {
   "cell_type": "code",
   "execution_count": 28,
   "id": "0e8ab398",
   "metadata": {},
   "outputs": [],
   "source": [
    "youTube_results, github_results, news_results = [], [], []"
   ]
  },
  {
   "cell_type": "code",
   "execution_count": 29,
   "id": "9a90c13d",
   "metadata": {
    "scrolled": true
   },
   "outputs": [
    {
     "name": "stdout",
     "output_type": "stream",
     "text": [
      "{'https://www.youtube.com/watch?v=cE-Ej1ycXtk', 'https://www.youtube.com/watch?v=4b4MUYve_U8', 'https://www.youtube.com/watch?v=4UJelID_ICw', 'https://www.youtube.com/watch?v=6uE4nfFgc5Q', 'https://www.youtube.com/watch?v=olFxW7kdtP8', 'https://www.youtube.com/watch?v=RnFGwxJwx-0', 'https://www.youtube.com/watch?v=1vsmaEfbnoE', 'https://www.youtube.com/watch?v=ItQowHSm9WY', 'https://www.youtube.com/watch?v=Y4qO9unerGs', 'https://www.youtube.com/watch?v=lsf060bLH_Y', 'https://www.youtube.com/watch?v=JxgmHe2NyeY', 'https://www.youtube.com/watch?v=IoZGSQ07e8g', 'https://www.youtube.com/watch?v=NWONeJKn6kc', 'https://www.youtube.com/watch?v=jGwO_UgTS7I', 'https://www.youtube.com/watch?v=ukzFI9rgwfU', 'https://www.youtube.com/watch?v=HcqpanDadyQ', 'https://www.youtube.com/watch?v=YHcAQKrh3E4', 'https://www.youtube.com/watch?v=7eh4d6sabA0', 'https://www.youtube.com/watch?v=17tGxiPatPg', 'https://www.youtube.com/watch?v=GwIo3gDZCVQ', 'https://www.youtube.com/watch?v=mNB8NlwhAgg', 'https://www.youtube.com/watch?v=i_LwzRVP7bg'}\n"
     ]
    }
   ],
   "source": [
    "youTube_results = final_results[0]\n",
    "print(set(youTube_results))"
   ]
  },
  {
   "cell_type": "code",
   "execution_count": 30,
   "id": "7bd41639",
   "metadata": {},
   "outputs": [
    {
     "data": {
      "text/plain": [
       "{('https://github.com/Azure/MachineLearningNotebooks', 3517),\n",
       " ('https://github.com/EthicalML/awesome-production-machine-learning', 12702),\n",
       " ('https://github.com/Jack-Cherish/Machine-Learning', 6806),\n",
       " ('https://github.com/Vay-keen/Machine-learning-learning-notes', 6359),\n",
       " ('https://github.com/ZuzooVn/machine-learning-for-software-engineers', 26323),\n",
       " ('https://github.com/afshinea/stanford-cs-229-machine-learning', 14236),\n",
       " ('https://github.com/aladdinpersson/Machine-Learning-Collection', 4513),\n",
       " ('https://github.com/allmachinelearning/MachineLearning', 3186),\n",
       " ('https://github.com/dive-into-machine-learning/dive-into-machine-learning',\n",
       "  11078),\n",
       " ('https://github.com/josephmisiti/awesome-machine-learning', 56846),\n",
       " ('https://github.com/lawlite19/MachineLearning_Python', 5165),\n",
       " ('https://github.com/lazyprogrammer/machine_learning_examples', 7091),\n",
       " ('https://github.com/rasbt/python-machine-learning-book', 11724),\n",
       " ('https://github.com/stefan-jansen/machine-learning-for-trading', 6438),\n",
       " ('https://github.com/susanli2016/Machine-Learning-with-Python', 3749),\n",
       " ('https://github.com/trekhleb/homemade-machine-learning', 20586),\n",
       " ('https://github.com/udacity/machine-learning', 3730),\n",
       " ('https://github.com/ujjwalkarn/Machine-Learning-Tutorials', 12506),\n",
       " ('https://github.com/vivienzou1/DL-Notes-for-Interview', 288),\n",
       " ('https://github.com/wepe/MachineLearning', 4502)}"
      ]
     },
     "execution_count": 30,
     "metadata": {},
     "output_type": "execute_result"
    }
   ],
   "source": [
    "github_results = final_results[1]\n",
    "set(github_results)"
   ]
  },
  {
   "cell_type": "code",
   "execution_count": 31,
   "id": "0993fd01",
   "metadata": {},
   "outputs": [
    {
     "data": {
      "text/plain": [
       "[]"
      ]
     },
     "execution_count": 31,
     "metadata": {},
     "output_type": "execute_result"
    }
   ],
   "source": [
    "news_results = final_results[2]\n",
    "news_results"
   ]
  }
 ],
 "metadata": {
  "kernelspec": {
   "display_name": "Python 3 (ipykernel)",
   "language": "python",
   "name": "python3"
  },
  "language_info": {
   "codemirror_mode": {
    "name": "ipython",
    "version": 3
   },
   "file_extension": ".py",
   "mimetype": "text/x-python",
   "name": "python",
   "nbconvert_exporter": "python",
   "pygments_lexer": "ipython3",
   "version": "3.10.4"
  }
 },
 "nbformat": 4,
 "nbformat_minor": 5
}
